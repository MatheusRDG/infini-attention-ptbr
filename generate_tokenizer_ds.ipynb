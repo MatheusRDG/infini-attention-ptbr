{
 "cells": [
  {
   "cell_type": "code",
   "execution_count": 2,
   "metadata": {},
   "outputs": [
    {
     "name": "stderr",
     "output_type": "stream",
     "text": [
      "/home/nando/miniconda3/envs/torch/lib/python3.11/site-packages/datasets/load.py:1486: FutureWarning: The repository for carolina-c4ai/corpus-carolina contains custom code which must be executed to correctly load the dataset. You can inspect the repository content at https://hf.co/datasets/carolina-c4ai/corpus-carolina\n",
      "You can avoid this message in future by passing the argument `trust_remote_code=True`.\n",
      "Passing `trust_remote_code=True` will be mandatory to load this dataset from the next major release of `datasets`.\n",
      "  warnings.warn(\n"
     ]
    }
   ],
   "source": [
    "from datasets import load_dataset\n",
    "\n",
    "social_media = load_dataset(\"carolina-c4ai/corpus-carolina\", taxonomy=\"soc\")"
   ]
  },
  {
   "cell_type": "code",
   "execution_count": 3,
   "metadata": {},
   "outputs": [],
   "source": [
    "\n",
    "with open(\"carolina_soc.txt\", \"w\") as f:\n",
    "\n",
    "    for entry in social_media['corpus']:\n",
    "        entry: str = entry['text'].replace('\\n', ' ').strip()\n",
    "\n",
    "        f.write(entry + '\\n')\n",
    "\n"
   ]
  },
  {
   "cell_type": "code",
   "execution_count": 4,
   "metadata": {},
   "outputs": [
    {
     "name": "stdout",
     "output_type": "stream",
     "text": [
      "\n",
      "\n",
      "\n"
     ]
    }
   ],
   "source": [
    "from tokenizer import BPETokenizer\n",
    "\n",
    "tokenizer = BPETokenizer()\n",
    "\n",
    "tokenizer.train_tokenizer(\"carolina_soc.txt\", 50_000)\n",
    "\n",
    "tokenizer.save_tokenizer(\"tokenizer_save\")"
   ]
  },
  {
   "cell_type": "code",
   "execution_count": 7,
   "metadata": {},
   "outputs": [
    {
     "data": {
      "text/plain": [
       "30000"
      ]
     },
     "execution_count": 7,
     "metadata": {},
     "output_type": "execute_result"
    }
   ],
   "source": [
    "tokenizer.tokenizer.get_vocab_size()"
   ]
  }
 ],
 "metadata": {
  "kernelspec": {
   "display_name": "torch",
   "language": "python",
   "name": "python3"
  },
  "language_info": {
   "codemirror_mode": {
    "name": "ipython",
    "version": 3
   },
   "file_extension": ".py",
   "mimetype": "text/x-python",
   "name": "python",
   "nbconvert_exporter": "python",
   "pygments_lexer": "ipython3",
   "version": "3.11.5"
  }
 },
 "nbformat": 4,
 "nbformat_minor": 2
}
