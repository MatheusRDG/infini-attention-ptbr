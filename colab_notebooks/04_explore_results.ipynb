{
  "cells": [
    {
      "cell_type": "markdown",
      "metadata": {
        "id": "y8DQeHelDd3v"
      },
      "source": [
        "### Evaluation and plots of results"
      ]
    },
    {
      "cell_type": "code",
      "execution_count": null,
      "metadata": {
        "collapsed": true,
        "id": "joDmKmZqD7qG"
      },
      "outputs": [],
      "source": [
        "# !pip install transformers -U\n",
        "# !pip install datasets"
      ]
    },
    {
      "cell_type": "code",
      "execution_count": null,
      "metadata": {
        "colab": {
          "base_uri": "https://localhost:8080/"
        },
        "id": "SqToYBGlRDgP",
        "outputId": "c3f1adff-7dd3-4e47-9665-fb6ba3509a67"
      },
      "outputs": [
        {
          "output_type": "stream",
          "name": "stdout",
          "text": [
            "Drive already mounted at /content/drive; to attempt to forcibly remount, call drive.mount(\"/content/drive\", force_remount=True).\n"
          ]
        }
      ],
      "source": [
        "from google.colab import drive\n",
        "\n",
        "drive.mount('/content/drive')"
      ]
    },
    {
      "cell_type": "code",
      "execution_count": null,
      "metadata": {
        "id": "UF_J-n4_Rayu"
      },
      "outputs": [],
      "source": [
        "models_path = '/content/drive/MyDrive/Colab Notebooks/nlp_unicamp/final_project/models/'\n",
        "\n",
        "models_names = ['infini_50percent_1epoch', 'selfattn_50percent_1epoch']"
      ]
    },
    {
      "cell_type": "code",
      "source": [
        "import torch\n",
        "\n",
        "device = torch.device(\"cuda\" if torch.cuda.is_available() else \"cpu\")"
      ],
      "metadata": {
        "id": "C8D0YOerw6qR"
      },
      "execution_count": null,
      "outputs": []
    },
    {
      "cell_type": "code",
      "source": [
        "from transformers import GPT2Tokenizer, GPT2LMHeadModel, Trainer\n",
        "\n",
        "# Infini 50% data with 1 epoch\n",
        "model_infini = GPT2LMHeadModel.from_pretrained(models_path + models_names[0]).to(device)\n",
        "tokenizer_infini = GPT2Tokenizer.from_pretrained(models_path + models_names[0])\n",
        "\n",
        "# Self-Attention 50% data with 1 epoch\n",
        "model_selfatt = GPT2LMHeadModel.from_pretrained(models_path + models_names[1]).to(device)\n",
        "tokenizer_selfatt = GPT2Tokenizer.from_pretrained(models_path + models_names[1], add_prefix_space=True, add_bos_token=True)\n",
        "\n",
        "# Generation setup\n",
        "model_infini.generation_config.pad_token_id = tokenizer_infini.pad_token_id\n",
        "model_selfatt.generation_config.pad_token_id = tokenizer_self_att.pad_token_id"
      ],
      "metadata": {
        "colab": {
          "base_uri": "https://localhost:8080/"
        },
        "id": "7KBOtOJihlKO",
        "outputId": "fa365ba3-91ac-4eda-fe74-f69752be9c1a"
      },
      "execution_count": null,
      "outputs": [
        {
          "output_type": "stream",
          "name": "stderr",
          "text": [
            "Some weights of the model checkpoint at /content/drive/MyDrive/Colab Notebooks/nlp_unicamp/final_project/models/infini_50percent_1epoch were not used when initializing GPT2LMHeadModel: ['transformer.h.0.attn.causal', 'transformer.h.1.attn.causal', 'transformer.h.10.attn.causal', 'transformer.h.11.attn.causal', 'transformer.h.2.attn.causal', 'transformer.h.3.attn.causal', 'transformer.h.4.attn.causal', 'transformer.h.5.attn.causal', 'transformer.h.6.attn.causal', 'transformer.h.7.attn.causal', 'transformer.h.8.attn.causal', 'transformer.h.9.attn.causal']\n",
            "- This IS expected if you are initializing GPT2LMHeadModel from the checkpoint of a model trained on another task or with another architecture (e.g. initializing a BertForSequenceClassification model from a BertForPreTraining model).\n",
            "- This IS NOT expected if you are initializing GPT2LMHeadModel from the checkpoint of a model that you expect to be exactly identical (initializing a BertForSequenceClassification model from a BertForSequenceClassification model).\n"
          ]
        }
      ]
    },
    {
      "cell_type": "code",
      "source": [
        "# Playground Generate\n",
        "input_ids = tokenizer_self_att(\"As praias\", return_tensors=\"pt\", truncation=True)\n",
        "attention_mask = input_ids.attention_mask.to(device)\n",
        "input_ids = input_ids.input_ids.to(device)\n",
        "\n",
        "generation = model_selfatt.generate(input_ids, do_sample=True, max_new_tokens=50, attention_mask=attention_mask, temperature = 1, eos_token_id=tokenizer.convert_tokens_to_ids('.'))\n",
        "print(tokenizer_self_att.decode(generation[0], skip_special_tokens=True))"
      ],
      "metadata": {
        "colab": {
          "base_uri": "https://localhost:8080/"
        },
        "id": "HEjR-pBWlaKR",
        "outputId": "2e503b45-1d41-420f-932d-15c284136a14"
      },
      "execution_count": null,
      "outputs": [
        {
          "output_type": "stream",
          "name": "stdout",
          "text": [
            " As praias do sul, e São José do Rio de Janeiro.\n"
          ]
        }
      ]
    },
    {
      "cell_type": "markdown",
      "source": [
        "### Load dataset"
      ],
      "metadata": {
        "id": "KczKbSuX0Vgh"
      }
    },
    {
      "cell_type": "code",
      "source": [
        "from datasets import Dataset\n",
        "import torch\n",
        "\n",
        "path_dataset = '/content/drive/MyDrive/Colab Notebooks/nlp_unicamp/final_project/tokenizer/datasets/split_10/'\n",
        "\n",
        "train_dataset = Dataset.load_from_disk(path_dataset + \"train_dataset\")\n",
        "test_dataset = Dataset.load_from_disk(path_dataset + \"test_dataset\")\n",
        "\n",
        "# 50% train data and 5% of test data of 50% train data.\n",
        "train_dataset = train_dataset.select(range(int(len(train_dataset))))\n",
        "test_dataset = test_dataset.select(range(4 * 16)) # 6 * 16"
      ],
      "metadata": {
        "id": "9iGQLfFY0Xty"
      },
      "execution_count": null,
      "outputs": []
    },
    {
      "cell_type": "code",
      "source": [
        "def generate_from_ds(model, tokenizer, ds, idx, n_tokens):\n",
        "    \"\"\"\n",
        "    Generate text from a given dataset of input_ids and attention_mask.\n",
        "    model: GPT2LMHeadModel\n",
        "    tokenizer: GPT2Tokenizer\n",
        "    ds: Dataset\n",
        "    idx: int\n",
        "    n_tokens: int\n",
        "    \"\"\"\n",
        "\n",
        "    # Index\n",
        "    sample = 0\n",
        "    n_tokens = 10\n",
        "    # Load from trainset\n",
        "    input_ids = ds['input_ids'][idx].unsqueeze(0).to(device)\n",
        "    print('complete original text: ', tokenizer.batch_decode(input_ids, skip_special_tokens=True)[0])\n",
        "    input_ids = input_ids[:, :n_tokens]\n",
        "\n",
        "    attention_mask = ds['attention_mask'][idx][:n_tokens].unsqueeze(0).to(device)\n",
        "\n",
        "    print('split original text: ',tokenizer.batch_decode(input_ids, skip_special_tokens=True)[0])\n",
        "\n",
        "\n",
        "    generation = model.generate(\n",
        "        input_ids,\n",
        "        do_sample=True,\n",
        "        max_new_tokens=50,\n",
        "        attention_mask=attention_mask,\n",
        "        temperature=1,  # Increased temperature for more variety\n",
        "        top_k=100,  # Using Top-K sampling\n",
        "        top_p=0.8,  # Using nucleus sampling\n",
        "        repetition_penalty=1,  # Applying repetition penalty\n",
        "        no_repeat_ngram_size=10,  # Preventing repeating ngrams within generated tokens\n",
        "        # eos_token_id=tokenizer.convert_tokens_to_ids('.')\n",
        "    )\n",
        "    print('generated text: ', tokenizer.decode(generation[0], skip_special_tokens=True))"
      ],
      "metadata": {
        "id": "R4j0L9Yozf5K"
      },
      "execution_count": null,
      "outputs": []
    },
    {
      "cell_type": "code",
      "source": [
        "generate_from_ds(model_selfatt, tokenizer_selfatt, train_dataset, 5, 10)"
      ],
      "metadata": {
        "colab": {
          "base_uri": "https://localhost:8080/"
        },
        "id": "13KBAT9V6VDb",
        "outputId": "b42a1f19-84a8-4a04-8e76-c151a09e3846"
      },
      "execution_count": null,
      "outputs": [
        {
          "output_type": "stream",
          "name": "stdout",
          "text": [
            "complete original text:   deputado ao Conselho dos Quinhentos em representação da Córsega. Presidia ao conselho no dia 18 do Brumário, tendo conspirado activamente com Emmanuel Joseph Sieyès na preparação do golpe de Estado daquele dia. Apesar disso, pouco se beneficia dos seus resultados. Ocupou o lugar de Ministro do Interior da França, durante o Consulado, a partir de 24 de Dezembro de 1799, substituindo no cargo a Pierre Simon de Laplace. Logo no ano seguinte, aparentemente por fazer sombra ao seu irmão Napoleão, o Primeiro Cônsul, foi sucedido no ministério por Jean Antoine Chaptal, sendo enviado para Madrid como embaixador. Durante o ano em que permaneceu em Madrid conseguiu fazer prevalecer a influência francesa contra a britânica, obtendo assim as boas graças do irmão Napoleão, apesar de ter envolvido em negócios pouco claros com os governos espanhol e português. Durante a sua estadia em Madrid fez-se grande amigo de Manuel Godoy, o \"Príncipe da Paz\", estando a sua acção conjunta na origem do episódio bélico que ficou conhecido pela Guerra das Laranjas, em resultado do qual o Estado português foi severamente humilhado e perdeu o território de Olivença. Diz-se que boa parte da indemnização milionária que Portugal foi obrigado a pagar foi embolsada por Lucien, uma das razões que determinariam a longa ruptura com o seu irmão Napoleão. De regresso à França, em 1802 é feito membro do Tribunat, mas os seus constantes desentendimentos com Napoleão levam à sua demissão e ao afastamento da esfera do poder, passando a exercer um mandato de senador. A sua primeira esposa faleceu em 1800, deixando-lhe dois filhos. Casou com Alexandrine de Bleschamp, viúva Hippolyte Jouberthon, e por isso conhecida por \"Madame Jouberthon, da qual terá doze filhos, entre os quais o primogénito, Charles Lucien Bonaparte, nascido em 1803, que se revelará um importante homem de ciência. Entretanto, este casamento provoca a fúria de Napoleão e obriga Lucien a partir com celeridade para Roma, onde se acolhe sob a protecção do papa Pio VII, do qual se tinha feito amigo em 1801, ao apoiar a Concordata entre a França e a Santa Sé. Em 1804, não é abrangido pelas honras e prebendas do Império. Fixa-se nas cercanias de Viterbo, na aldeia de Canino, que o pape erige para ele em principado. E elevado pelo papa a \"Princípe de Canino e de Musignano\", título pelo qual passa a ser conhecido. Apesar de alguns esforços, não se reconcilia com seu irmão, agora o poderoso imperador Napoleão I, em resultado do que Lucien decide partir para os Estados Unidos da América. Em 1810, quando tenta a travessia do Atlântico, é feito prisioneiro pelos britânicos, permanecendo nessa situação até 1814. Entretanto libertado, ao saber do regresso de Napoleão do seu exílio na ilha de Elba, decide imediatamente regressar a França. Napoleão, agora mais leniente depois da humilhação sofrida, aceita a reconciliação, cobrindo-o de honras e fazendo-o eleger deputado. A queda definitiva de Napoleão, depois da Batalha de Waterloo, obriga Lucien a procurar novamente refúgio em Roma. Proscrito pelo regime saído da restauração francesa, morre no exílio, como um simples particular, a 29 de Junho de 1840. Carreira literária Paralelamente à sua vida política de membro do clã Bonaparte, Lucien interessou-se vivamente pela vida literária, revelando-se um razoável poeta, o que lhe valeu um lugar na Académie Française. Era presença assídua nos saraus literários Juliette Récamier, a célebre \"Madame de Récamier\". Compôs dois poemas épicos intitulados \"Charlemagne\" e \"La Cyrnéïde ou la Corse sauvée\". Tinha sido admitido no Institut de France, sendo nessa condição o primeiro patrono de Pierre Jean de Béranger, a favor de quem renunciou ao estipêndio de 1 000 francos a que tinha direito por pertencer àquela instituição. Foi membro da Académie Française, ocupando a cadeira n.º 32 no período de 1803 a 1816. Foi precedido no lugar académico por François Henri d'Harcourt e sucedido por Louis Simon Auger. Obras publicadas São as seguintes as principais obras publicadas por Lucien Bonaparte: \"La Tribu indienne, ou Edouard et Stellina\", romance, Paris 1799 \"Charlemagne ou l'Église sauvée\", poema épico em 24 cantos, Paris 1815 \"La Cyrnéïde ou la Corse sauvée\", 12 cantos, Paris 1819 \"Aux citoyens français membres des colléges electoraux\", Le Mans 1834 \"La vérité sur les Cent-Jours\", Paris 1835 \"Mémoires de Lucien Bonaparte, prince de Canino, écrits par lui-même\", Paris 1836 \"Mémoire sur les vases étrusques\", Paris 1836 \"Le 18 Brumaire\", Paris 1845 Descendência Retrato de Luciano Bonaparte, Príncipe de Canino. Por Robert Lefèvre, no Palácio de Versalhes. Referências\n",
            "split original text:   deputado ao Conselho dos Quinhentos em representação\n",
            "generated text:   deputado ao Conselho dos Quinhentos em representação da Câmara dos Campos dos Campos, e também no Diário da Cultura e no Prêmio Rio de Janeiro. O seu nome foi alterado pelo presidente Francisco Roberto Ciguentos, que deu início ao Brasil, em setembro de 1984, no Diário da Liberdade. Em\n"
          ]
        }
      ]
    },
    {
      "cell_type": "code",
      "source": [
        "generate_from_ds(model_infini, tokenizer_infini, train_dataset, 5, 10)"
      ],
      "metadata": {
        "colab": {
          "base_uri": "https://localhost:8080/"
        },
        "id": "4yBZk8PV3zwr",
        "outputId": "31fcabc8-9c8e-4ec0-aa85-391aea80c331"
      },
      "execution_count": null,
      "outputs": [
        {
          "output_type": "stream",
          "name": "stdout",
          "text": [
            "complete original text:   deputado ao Conselho dos Quinhentos em representação da Córsega. Presidia ao conselho no dia 18 do Brumário, tendo conspirado activamente com Emmanuel Joseph Sieyès na preparação do golpe de Estado daquele dia. Apesar disso, pouco se beneficia dos seus resultados. Ocupou o lugar de Ministro do Interior da França, durante o Consulado, a partir de 24 de Dezembro de 1799, substituindo no cargo a Pierre Simon de Laplace. Logo no ano seguinte, aparentemente por fazer sombra ao seu irmão Napoleão, o Primeiro Cônsul, foi sucedido no ministério por Jean Antoine Chaptal, sendo enviado para Madrid como embaixador. Durante o ano em que permaneceu em Madrid conseguiu fazer prevalecer a influência francesa contra a britânica, obtendo assim as boas graças do irmão Napoleão, apesar de ter envolvido em negócios pouco claros com os governos espanhol e português. Durante a sua estadia em Madrid fez-se grande amigo de Manuel Godoy, o \"Príncipe da Paz\", estando a sua acção conjunta na origem do episódio bélico que ficou conhecido pela Guerra das Laranjas, em resultado do qual o Estado português foi severamente humilhado e perdeu o território de Olivença. Diz-se que boa parte da indemnização milionária que Portugal foi obrigado a pagar foi embolsada por Lucien, uma das razões que determinariam a longa ruptura com o seu irmão Napoleão. De regresso à França, em 1802 é feito membro do Tribunat, mas os seus constantes desentendimentos com Napoleão levam à sua demissão e ao afastamento da esfera do poder, passando a exercer um mandato de senador. A sua primeira esposa faleceu em 1800, deixando-lhe dois filhos. Casou com Alexandrine de Bleschamp, viúva Hippolyte Jouberthon, e por isso conhecida por \"Madame Jouberthon, da qual terá doze filhos, entre os quais o primogénito, Charles Lucien Bonaparte, nascido em 1803, que se revelará um importante homem de ciência. Entretanto, este casamento provoca a fúria de Napoleão e obriga Lucien a partir com celeridade para Roma, onde se acolhe sob a protecção do papa Pio VII, do qual se tinha feito amigo em 1801, ao apoiar a Concordata entre a França e a Santa Sé. Em 1804, não é abrangido pelas honras e prebendas do Império. Fixa-se nas cercanias de Viterbo, na aldeia de Canino, que o pape erige para ele em principado. E elevado pelo papa a \"Princípe de Canino e de Musignano\", título pelo qual passa a ser conhecido. Apesar de alguns esforços, não se reconcilia com seu irmão, agora o poderoso imperador Napoleão I, em resultado do que Lucien decide partir para os Estados Unidos da América. Em 1810, quando tenta a travessia do Atlântico, é feito prisioneiro pelos britânicos, permanecendo nessa situação até 1814. Entretanto libertado, ao saber do regresso de Napoleão do seu exílio na ilha de Elba, decide imediatamente regressar a França. Napoleão, agora mais leniente depois da humilhação sofrida, aceita a reconciliação, cobrindo-o de honras e fazendo-o eleger deputado. A queda definitiva de Napoleão, depois da Batalha de Waterloo, obriga Lucien a procurar novamente refúgio em Roma. Proscrito pelo regime saído da restauração francesa, morre no exílio, como um simples particular, a 29 de Junho de 1840. Carreira literária Paralelamente à sua vida política de membro do clã Bonaparte, Lucien interessou-se vivamente pela vida literária, revelando-se um razoável poeta, o que lhe valeu um lugar na Académie Française. Era presença assídua nos saraus literários Juliette Récamier, a célebre \"Madame de Récamier\". Compôs dois poemas épicos intitulados \"Charlemagne\" e \"La Cyrnéïde ou la Corse sauvée\". Tinha sido admitido no Institut de France, sendo nessa condição o primeiro patrono de Pierre Jean de Béranger, a favor de quem renunciou ao estipêndio de 1 000 francos a que tinha direito por pertencer àquela instituição. Foi membro da Académie Française, ocupando a cadeira n.º 32 no período de 1803 a 1816. Foi precedido no lugar académico por François Henri d'Harcourt e sucedido por Louis Simon Auger. Obras publicadas São as seguintes as principais obras publicadas por Lucien Bonaparte: \"La Tribu indienne, ou Edouard et Stellina\", romance, Paris 1799 \"Charlemagne ou l'Église sauvée\", poema épico em 24 cantos, Paris 1815 \"La Cyrnéïde ou la Corse sauvée\", 12 cantos, Paris 1819 \"Aux citoyens français membres des colléges electoraux\", Le Mans 1834 \"La vérité sur les Cent-Jours\", Paris 1835 \"Mémoires de Lucien Bonaparte, prince de Canino, écrits par lui-même\", Paris 1836 \"Mémoire sur les vases étrusques\", Paris 1836 \"Le 18 Brumaire\", Paris 1845 Descendência Retrato de Luciano Bonaparte, Príncipe de Canino. Por Robert Lefèvre, no Palácio de Versalhes. Referências\n",
            "split original text:   deputado ao Conselho dos Quinhentos em representação\n",
            "generated text:   deputado ao Conselho dos Quinhentos em representação,,,, de, de de de o,,. de de de de, de, de, de.. o,, de.. de o de. de,,.,, de de., e de de de de\n"
          ]
        }
      ]
    },
    {
      "cell_type": "markdown",
      "source": [],
      "metadata": {
        "id": "SfRerAVB6mrC"
      }
    },
    {
      "cell_type": "markdown",
      "source": [
        "### Load CSV Logs"
      ],
      "metadata": {
        "id": "BonmHCsAmUGH"
      }
    },
    {
      "cell_type": "code",
      "source": [
        "import pandas as pd\n",
        "import numpy as np\n",
        "\n",
        "infini_10percent_5epoch_logs = pd.read_csv('infini_10percent_5epoch.csv')[1:]\n",
        "infini_50percent_1epoch_logs = pd.read_csv('infini_50percent_1epoch.csv')[1:]\n",
        "selfattn_50percent_1epoch_logs = pd.read_csv('selfattn_50percent_1epoch.csv')\n",
        "\n",
        "# as float each column\n",
        "infini_10percent_5epoch_logs = infini_10percent_5epoch_logs.astype(float)\n",
        "infini_50percent_1epoch_logs = infini_50percent_1epoch_logs.astype(float)\n",
        "\n",
        "# Normalize\n",
        "infini_50percent_1epoch_logs['Step'] /= infini_50percent_1epoch_logs['Step'].max()\n",
        "infini_10percent_5epoch_logs['Step'] /= infini_10percent_5epoch_logs['Step'].max() / 5\n",
        "selfattn_50percent_1epoch_logs['Step'] /= selfattn_50percent_1epoch_logs['Step'].max()\n",
        "\n",
        "# Train Perplexity\n",
        "infini_10percent_5epoch_logs['Train Perplexity'] = np.exp(infini_10percent_5epoch_logs['Training Loss'])\n",
        "infini_50percent_1epoch_logs['Train Perplexity'] = np.exp(infini_50percent_1epoch_logs['Training Loss'])\n",
        "selfattn_50percent_1epoch_logs['Train Perplexity'] = np.exp(selfattn_50percent_1epoch_logs['Training Loss'])\n",
        "\n",
        "# Validation Perplexity\n",
        "infini_10percent_5epoch_logs['Validation Perplexity'] = np.exp(infini_10percent_5epoch_logs['Validation Loss'])\n",
        "infini_50percent_1epoch_logs['Validation Perplexity'] = np.exp(infini_50percent_1epoch_logs['Validation Loss'])\n",
        "selfattn_50percent_1epoch_logs['Validation Perplexity'] = np.exp(selfattn_50percent_1epoch_logs['Validation Loss'])\n",
        "\n",
        "# Setup PPL\n",
        "initial_step = selfattn_50percent_1epoch_logs['Step'].iloc[0]\n",
        "\n",
        "# filter infini_50percent_1epoch_logs with step > initial_step\n",
        "initial_step_infini = infini_50percent_1epoch_logs[infini_50percent_1epoch_logs['Step'] > initial_step]"
      ],
      "metadata": {
        "id": "vZAHuPLWmVVf"
      },
      "execution_count": null,
      "outputs": []
    },
    {
      "cell_type": "code",
      "source": [
        "import matplotlib.pyplot as plt\n",
        "\n",
        "# Setting up the figure and axes for a 3-row plot\n",
        "fig, axs = plt.subplots(1, 3, figsize=(20, 5), sharey=True)\n",
        "\n",
        "# Plot for infini_50percent_1epoch_logs\n",
        "axs[0].plot(infini_50percent_1epoch_logs['Step'], infini_50percent_1epoch_logs['Training Loss'], label='Training Loss')\n",
        "axs[0].plot(infini_50percent_1epoch_logs['Step'], infini_50percent_1epoch_logs['Validation Loss'], label='Validation Loss')\n",
        "axs[0].set_title('Infini 50% 1 Epoch')\n",
        "axs[0].set_xlabel('Epoch')\n",
        "axs[0].set_ylabel('Loss')\n",
        "axs[0].legend()\n",
        "\n",
        "# Plot for selfattn_50percent_1epoch_logs\n",
        "axs[1].plot(selfattn_50percent_1epoch_logs['Step'], selfattn_50percent_1epoch_logs['Training Loss'], label='Training Loss')\n",
        "axs[1].plot(selfattn_50percent_1epoch_logs['Step'], selfattn_50percent_1epoch_logs['Validation Loss'], label='Validation Loss')\n",
        "axs[1].set_title('Self-Attention 50% 1 Epoch')\n",
        "axs[1].set_xlabel('Epoch')\n",
        "axs[1].set_ylabel('Loss')\n",
        "axs[1].legend()\n",
        "\n",
        "# # Plot for infini_10percent_5epoch_logs\n",
        "axs[2].plot(infini_10percent_5epoch_logs['Step'], infini_10percent_5epoch_logs['Training Loss'], label='Training Loss')\n",
        "axs[2].plot(infini_10percent_5epoch_logs['Step'], infini_10percent_5epoch_logs['Validation Loss'], label='Validation Loss')\n",
        "axs[2].set_title('Infini 10% 5 Epoch')\n",
        "axs[2].set_xlabel('Epoch')\n",
        "axs[2].set_ylabel('Loss')\n",
        "axs[2].legend()\n",
        "\n",
        "plt.tight_layout()\n",
        "\n",
        "# plt.savefig('infini_self.png')\n",
        "plt.show()\n",
        "\n"
      ],
      "metadata": {
        "colab": {
          "base_uri": "https://localhost:8080/",
          "height": 208
        },
        "id": "h9viJCUlmkjI",
        "outputId": "bfac0a05-0125-484d-bd80-fc531292a4f3"
      },
      "execution_count": null,
      "outputs": [
        {
          "output_type": "display_data",
          "data": {
            "text/plain": [
              "<Figure size 2000x500 with 3 Axes>"
            ],
            "image/png": "[encoded data removed]"
          },
          "metadata": {}
        }
      ]
    },
    {
      "cell_type": "code",
      "source": [
        "def extract_initial_final(data):\n",
        "    initial = data.iloc[0]\n",
        "    final = data.iloc[-1]\n",
        "    return {\n",
        "        'First Training Perplexity (~16% epoch)': initial['Train Perplexity'],\n",
        "        'Final Training Perplexity': final['Train Perplexity'],\n",
        "        'First Validation Perplexity (~16% epoch)': initial['Validation Perplexity'],\n",
        "        'Final Validation Perplexity': final['Validation Perplexity']\n",
        "    }\n",
        "\n",
        "# Extract values for each dataset\n",
        "# infini_10percent_5epoch_metrics = extract_initial_final(infini_10percent_5epoch_logs)\n",
        "infini_50percent_1epoch_metrics = extract_initial_final(initial_step_infini)\n",
        "selfattn_50percent_1epoch_metrics = extract_initial_final(selfattn_50percent_1epoch_logs)\n",
        "\n",
        "# Create a DataFrame from the extracted values\n",
        "summary_df = pd.DataFrame({\n",
        "    # 'Infini 10% 5 Epochs': infini_10percent_5epoch_metrics,\n",
        "    'Infini 50% 1 Epoch': infini_50percent_1epoch_metrics,\n",
        "    'Self-Attention 50% 1 Epoch': selfattn_50percent_1epoch_metrics\n",
        "})\n",
        "\n",
        "summary_df"
      ],
      "metadata": {
        "colab": {
          "base_uri": "https://localhost:8080/",
          "height": 175
        },
        "id": "MQMZbiuktY-Q",
        "outputId": "9ede487e-b0b8-4b60-e621-81a867d458ab"
      },
      "execution_count": null,
      "outputs": [
        {
          "output_type": "execute_result",
          "data": {
            "text/plain": [
              "                                          Infini 50% 1 Epoch  \\\n",
              "First Training Perplexity (~16% epoch)           1883.336092   \n",
              "Final Training Perplexity                         427.134948   \n",
              "First Validation Perplexity (~16% epoch)         1137.952643   \n",
              "Final Validation Perplexity                       374.421063   \n",
              "\n",
              "                                          Self-Attention 50% 1 Epoch  \n",
              "First Training Perplexity (~16% epoch)                    732.160681  \n",
              "Final Training Perplexity                                 112.956185  \n",
              "First Validation Perplexity (~16% epoch)                  341.489523  \n",
              "Final Validation Perplexity                                88.322422  "
            ],
            "text/html": [
              "\n",
              "  <div id=\"df-74e0b140-61f9-4ed7-9a83-5864b6642f6b\" class=\"colab-df-container\">\n",
              "    <div>\n",
              "<style scoped>\n",
              "    .dataframe tbody tr th:only-of-type {\n",
              "        vertical-align: middle;\n",
              "    }\n",
              "\n",
              "    .dataframe tbody tr th {\n",
              "        vertical-align: top;\n",
              "    }\n",
              "\n",
              "    .dataframe thead th {\n",
              "        text-align: right;\n",
              "    }\n",
              "</style>\n",
              "<table border=\"1\" class=\"dataframe\">\n",
              "  <thead>\n",
              "    <tr style=\"text-align: right;\">\n",
              "      <th></th>\n",
              "      <th>Infini 50% 1 Epoch</th>\n",
              "      <th>Self-Attention 50% 1 Epoch</th>\n",
              "    </tr>\n",
              "  </thead>\n",
              "  <tbody>\n",
              "    <tr>\n",
              "      <th>First Training Perplexity (~16% epoch)</th>\n",
              "      <td>1883.336092</td>\n",
              "      <td>732.160681</td>\n",
              "    </tr>\n",
              "    <tr>\n",
              "      <th>Final Training Perplexity</th>\n",
              "      <td>427.134948</td>\n",
              "      <td>112.956185</td>\n",
              "    </tr>\n",
              "    <tr>\n",
              "      <th>First Validation Perplexity (~16% epoch)</th>\n",
              "      <td>1137.952643</td>\n",
              "      <td>341.489523</td>\n",
              "    </tr>\n",
              "    <tr>\n",
              "      <th>Final Validation Perplexity</th>\n",
              "      <td>374.421063</td>\n",
              "      <td>88.322422</td>\n",
              "    </tr>\n",
              "  </tbody>\n",
              "</table>\n",
              "</div>\n",
              "    <div class=\"colab-df-buttons\">\n",
              "\n",
              "  <div class=\"colab-df-container\">\n",
              "    <button class=\"colab-df-convert\" onclick=\"convertToInteractive('df-74e0b140-61f9-4ed7-9a83-5864b6642f6b')\"\n",
              "            title=\"Convert this dataframe to an interactive table.\"\n",
              "            style=\"display:none;\">\n",
              "\n",
              "  <svg xmlns=\"http://www.w3.org/2000/svg\" height=\"24px\" viewBox=\"0 -960 960 960\">\n",
              "    <path d=\"M120-120v-720h720v720H120Zm60-500h600v-160H180v160Zm220 220h160v-160H400v160Zm0 220h160v-160H400v160ZM180-400h160v-160H180v160Zm440 0h160v-160H620v160ZM180-180h160v-160H180v160Zm440 0h160v-160H620v160Z\"/>\n",
              "  </svg>\n",
              "    </button>\n",
              "\n",
              "  <style>\n",
              "    .colab-df-container {\n",
              "      display:flex;\n",
              "      gap: 12px;\n",
              "    }\n",
              "\n",
              "    .colab-df-convert {\n",
              "      background-color: #E8F0FE;\n",
              "      border: none;\n",
              "      border-radius: 50%;\n",
              "      cursor: pointer;\n",
              "      display: none;\n",
              "      fill: #1967D2;\n",
              "      height: 32px;\n",
              "      padding: 0 0 0 0;\n",
              "      width: 32px;\n",
              "    }\n",
              "\n",
              "    .colab-df-convert:hover {\n",
              "      background-color: #E2EBFA;\n",
              "      box-shadow: 0px 1px 2px rgba(60, 64, 67, 0.3), 0px 1px 3px 1px rgba(60, 64, 67, 0.15);\n",
              "      fill: #174EA6;\n",
              "    }\n",
              "\n",
              "    .colab-df-buttons div {\n",
              "      margin-bottom: 4px;\n",
              "    }\n",
              "\n",
              "    [theme=dark] .colab-df-convert {\n",
              "      background-color: #3B4455;\n",
              "      fill: #D2E3FC;\n",
              "    }\n",
              "\n",
              "    [theme=dark] .colab-df-convert:hover {\n",
              "      background-color: #434B5C;\n",
              "      box-shadow: 0px 1px 3px 1px rgba(0, 0, 0, 0.15);\n",
              "      filter: drop-shadow(0px 1px 2px rgba(0, 0, 0, 0.3));\n",
              "      fill: #FFFFFF;\n",
              "    }\n",
              "  </style>\n",
              "\n",
              "    <script>\n",
              "      const buttonEl =\n",
              "        document.querySelector('#df-74e0b140-61f9-4ed7-9a83-5864b6642f6b button.colab-df-convert');\n",
              "      buttonEl.style.display =\n",
              "        google.colab.kernel.accessAllowed ? 'block' : 'none';\n",
              "\n",
              "      async function convertToInteractive(key) {\n",
              "        const element = document.querySelector('#df-74e0b140-61f9-4ed7-9a83-5864b6642f6b');\n",
              "        const dataTable =\n",
              "          await google.colab.kernel.invokeFunction('convertToInteractive',\n",
              "                                                    [key], {});\n",
              "        if (!dataTable) return;\n",
              "\n",
              "        const docLinkHtml = 'Like what you see? Visit the ' +\n",
              "          '<a target=\"_blank\" href=https://colab.research.google.com/notebooks/data_table.ipynb>data table notebook</a>'\n",
              "          + ' to learn more about interactive tables.';\n",
              "        element.innerHTML = '';\n",
              "        dataTable['output_type'] = 'display_data';\n",
              "        await google.colab.output.renderOutput(dataTable, element);\n",
              "        const docLink = document.createElement('div');\n",
              "        docLink.innerHTML = docLinkHtml;\n",
              "        element.appendChild(docLink);\n",
              "      }\n",
              "    </script>\n",
              "  </div>\n",
              "\n",
              "\n",
              "<div id=\"df-0c351eb8-9ac5-4a55-a2b3-858a533e4eb3\">\n",
              "  <button class=\"colab-df-quickchart\" onclick=\"quickchart('df-0c351eb8-9ac5-4a55-a2b3-858a533e4eb3')\"\n",
              "            title=\"Suggest charts\"\n",
              "            style=\"display:none;\">\n",
              "\n",
              "<svg xmlns=\"http://www.w3.org/2000/svg\" height=\"24px\"viewBox=\"0 0 24 24\"\n",
              "     width=\"24px\">\n",
              "    <g>\n",
              "        <path d=\"M19 3H5c-1.1 0-2 .9-2 2v14c0 1.1.9 2 2 2h14c1.1 0 2-.9 2-2V5c0-1.1-.9-2-2-2zM9 17H7v-7h2v7zm4 0h-2V7h2v10zm4 0h-2v-4h2v4z\"/>\n",
              "    </g>\n",
              "</svg>\n",
              "  </button>\n",
              "\n",
              "<style>\n",
              "  .colab-df-quickchart {\n",
              "      --bg-color: #E8F0FE;\n",
              "      --fill-color: #1967D2;\n",
              "      --hover-bg-color: #E2EBFA;\n",
              "      --hover-fill-color: #174EA6;\n",
              "      --disabled-fill-color: #AAA;\n",
              "      --disabled-bg-color: #DDD;\n",
              "  }\n",
              "\n",
              "  [theme=dark] .colab-df-quickchart {\n",
              "      --bg-color: #3B4455;\n",
              "      --fill-color: #D2E3FC;\n",
              "      --hover-bg-color: #434B5C;\n",
              "      --hover-fill-color: #FFFFFF;\n",
              "      --disabled-bg-color: #3B4455;\n",
              "      --disabled-fill-color: #666;\n",
              "  }\n",
              "\n",
              "  .colab-df-quickchart {\n",
              "    background-color: var(--bg-color);\n",
              "    border: none;\n",
              "    border-radius: 50%;\n",
              "    cursor: pointer;\n",
              "    display: none;\n",
              "    fill: var(--fill-color);\n",
              "    height: 32px;\n",
              "    padding: 0;\n",
              "    width: 32px;\n",
              "  }\n",
              "\n",
              "  .colab-df-quickchart:hover {\n",
              "    background-color: var(--hover-bg-color);\n",
              "    box-shadow: 0 1px 2px rgba(60, 64, 67, 0.3), 0 1px 3px 1px rgba(60, 64, 67, 0.15);\n",
              "    fill: var(--button-hover-fill-color);\n",
              "  }\n",
              "\n",
              "  .colab-df-quickchart-complete:disabled,\n",
              "  .colab-df-quickchart-complete:disabled:hover {\n",
              "    background-color: var(--disabled-bg-color);\n",
              "    fill: var(--disabled-fill-color);\n",
              "    box-shadow: none;\n",
              "  }\n",
              "\n",
              "  .colab-df-spinner {\n",
              "    border: 2px solid var(--fill-color);\n",
              "    border-color: transparent;\n",
              "    border-bottom-color: var(--fill-color);\n",
              "    animation:\n",
              "      spin 1s steps(1) infinite;\n",
              "  }\n",
              "\n",
              "  @keyframes spin {\n",
              "    0% {\n",
              "      border-color: transparent;\n",
              "      border-bottom-color: var(--fill-color);\n",
              "      border-left-color: var(--fill-color);\n",
              "    }\n",
              "    20% {\n",
              "      border-color: transparent;\n",
              "      border-left-color: var(--fill-color);\n",
              "      border-top-color: var(--fill-color);\n",
              "    }\n",
              "    30% {\n",
              "      border-color: transparent;\n",
              "      border-left-color: var(--fill-color);\n",
              "      border-top-color: var(--fill-color);\n",
              "      border-right-color: var(--fill-color);\n",
              "    }\n",
              "    40% {\n",
              "      border-color: transparent;\n",
              "      border-right-color: var(--fill-color);\n",
              "      border-top-color: var(--fill-color);\n",
              "    }\n",
              "    60% {\n",
              "      border-color: transparent;\n",
              "      border-right-color: var(--fill-color);\n",
              "    }\n",
              "    80% {\n",
              "      border-color: transparent;\n",
              "      border-right-color: var(--fill-color);\n",
              "      border-bottom-color: var(--fill-color);\n",
              "    }\n",
              "    90% {\n",
              "      border-color: transparent;\n",
              "      border-bottom-color: var(--fill-color);\n",
              "    }\n",
              "  }\n",
              "</style>\n",
              "\n",
              "  <script>\n",
              "    async function quickchart(key) {\n",
              "      const quickchartButtonEl =\n",
              "        document.querySelector('#' + key + ' button');\n",
              "      quickchartButtonEl.disabled = true;  // To prevent multiple clicks.\n",
              "      quickchartButtonEl.classList.add('colab-df-spinner');\n",
              "      try {\n",
              "        const charts = await google.colab.kernel.invokeFunction(\n",
              "            'suggestCharts', [key], {});\n",
              "      } catch (error) {\n",
              "        console.error('Error during call to suggestCharts:', error);\n",
              "      }\n",
              "      quickchartButtonEl.classList.remove('colab-df-spinner');\n",
              "      quickchartButtonEl.classList.add('colab-df-quickchart-complete');\n",
              "    }\n",
              "    (() => {\n",
              "      let quickchartButtonEl =\n",
              "        document.querySelector('#df-0c351eb8-9ac5-4a55-a2b3-858a533e4eb3 button');\n",
              "      quickchartButtonEl.style.display =\n",
              "        google.colab.kernel.accessAllowed ? 'block' : 'none';\n",
              "    })();\n",
              "  </script>\n",
              "</div>\n",
              "\n",
              "  <div id=\"id_b7eb75d8-7317-4e67-95a9-7c8c220e5970\">\n",
              "    <style>\n",
              "      .colab-df-generate {\n",
              "        background-color: #E8F0FE;\n",
              "        border: none;\n",
              "        border-radius: 50%;\n",
              "        cursor: pointer;\n",
              "        display: none;\n",
              "        fill: #1967D2;\n",
              "        height: 32px;\n",
              "        padding: 0 0 0 0;\n",
              "        width: 32px;\n",
              "      }\n",
              "\n",
              "      .colab-df-generate:hover {\n",
              "        background-color: #E2EBFA;\n",
              "        box-shadow: 0px 1px 2px rgba(60, 64, 67, 0.3), 0px 1px 3px 1px rgba(60, 64, 67, 0.15);\n",
              "        fill: #174EA6;\n",
              "      }\n",
              "\n",
              "      [theme=dark] .colab-df-generate {\n",
              "        background-color: #3B4455;\n",
              "        fill: #D2E3FC;\n",
              "      }\n",
              "\n",
              "      [theme=dark] .colab-df-generate:hover {\n",
              "        background-color: #434B5C;\n",
              "        box-shadow: 0px 1px 3px 1px rgba(0, 0, 0, 0.15);\n",
              "        filter: drop-shadow(0px 1px 2px rgba(0, 0, 0, 0.3));\n",
              "        fill: #FFFFFF;\n",
              "      }\n",
              "    </style>\n",
              "    <button class=\"colab-df-generate\" onclick=\"generateWithVariable('summary_df')\"\n",
              "            title=\"Generate code using this dataframe.\"\n",
              "            style=\"display:none;\">\n",
              "\n",
              "  <svg xmlns=\"http://www.w3.org/2000/svg\" height=\"24px\"viewBox=\"0 0 24 24\"\n",
              "       width=\"24px\">\n",
              "    <path d=\"M7,19H8.4L18.45,9,17,7.55,7,17.6ZM5,21V16.75L18.45,3.32a2,2,0,0,1,2.83,0l1.4,1.43a1.91,1.91,0,0,1,.58,1.4,1.91,1.91,0,0,1-.58,1.4L9.25,21ZM18.45,9,17,7.55Zm-12,3A5.31,5.31,0,0,0,4.9,8.1,5.31,5.31,0,0,0,1,6.5,5.31,5.31,0,0,0,4.9,4.9,5.31,5.31,0,0,0,6.5,1,5.31,5.31,0,0,0,8.1,4.9,5.31,5.31,0,0,0,12,6.5,5.46,5.46,0,0,0,6.5,12Z\"/>\n",
              "  </svg>\n",
              "    </button>\n",
              "    <script>\n",
              "      (() => {\n",
              "      const buttonEl =\n",
              "        document.querySelector('#id_b7eb75d8-7317-4e67-95a9-7c8c220e5970 button.colab-df-generate');\n",
              "      buttonEl.style.display =\n",
              "        google.colab.kernel.accessAllowed ? 'block' : 'none';\n",
              "\n",
              "      buttonEl.onclick = () => {\n",
              "        google.colab.notebook.generateWithVariable('summary_df');\n",
              "      }\n",
              "      })();\n",
              "    </script>\n",
              "  </div>\n",
              "\n",
              "    </div>\n",
              "  </div>\n"
            ],
            "application/vnd.google.colaboratory.intrinsic+json": {
              "type": "dataframe",
              "variable_name": "summary_df",
              "summary": "{\n  \"name\": \"summary_df\",\n  \"rows\": 4,\n  \"fields\": [\n    {\n      \"column\": \"Infini 50% 1 Epoch\",\n      \"properties\": {\n        \"dtype\": \"number\",\n        \"std\": 709.6926474309707,\n        \"min\": 374.42106261291036,\n        \"max\": 1883.336091529043,\n        \"num_unique_values\": 4,\n        \"samples\": [\n          427.134947671094,\n          374.42106261291036,\n          1883.336091529043\n        ],\n        \"semantic_type\": \"\",\n        \"description\": \"\"\n      }\n    },\n    {\n      \"column\": \"Self-Attention 50% 1 Epoch\",\n      \"properties\": {\n        \"dtype\": \"number\",\n        \"std\": 298.25796405749986,\n        \"min\": 88.32242154425384,\n        \"max\": 732.1606814133384,\n        \"num_unique_values\": 4,\n        \"samples\": [\n          112.9561849821966,\n          88.32242154425384,\n          732.1606814133384\n        ],\n        \"semantic_type\": \"\",\n        \"description\": \"\"\n      }\n    }\n  ]\n}"
            }
          },
          "metadata": {},
          "execution_count": 111
        }
      ]
    }
  ],
  "metadata": {
    "accelerator": "GPU",
    "colab": {
      "gpuType": "T4",
      "machine_shape": "hm",
      "provenance": []
    },
    "kernelspec": {
      "display_name": "Python 3",
      "name": "python3"
    },
    "language_info": {
      "codemirror_mode": {
        "name": "ipython",
        "version": 3
      },
      "file_extension": ".py",
      "mimetype": "text/x-python",
      "name": "python",
      "nbconvert_exporter": "python",
      "pygments_lexer": "ipython3",
      "version": "3.11.5"
    }
  },
  "nbformat": 4,
  "nbformat_minor": 0
}